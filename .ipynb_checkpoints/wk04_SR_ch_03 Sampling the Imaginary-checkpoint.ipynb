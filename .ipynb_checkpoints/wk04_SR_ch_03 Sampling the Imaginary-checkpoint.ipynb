{
 "cells": [
  {
   "cell_type": "markdown",
   "metadata": {
    "Collapsed": "false"
   },
   "source": [
    "# Chapter 3. Sampling the Imaginary\n",
    "## text: Statistical Rethinking "
   ]
  },
  {
   "cell_type": "code",
   "execution_count": null,
   "metadata": {},
   "outputs": [],
   "source": [
    "# conda install -c conda-forge pymc3"
   ]
  },
  {
   "cell_type": "code",
   "execution_count": null,
   "metadata": {
    "Collapsed": "false"
   },
   "outputs": [],
   "source": [
    "#import pymc3 as pm\n",
    "import numpy as np\n",
    "import scipy.stats as stats\n",
    "import matplotlib.pyplot as plt\n",
    "import arviz as az"
   ]
  },
  {
   "cell_type": "code",
   "execution_count": null,
   "metadata": {
    "Collapsed": "false"
   },
   "outputs": [],
   "source": [
    "%config InlineBackend.figure_format = 'retina'\n",
    "az.style.use('arviz-darkgrid')"
   ]
  },
  {
   "cell_type": "markdown",
   "metadata": {
    "Collapsed": "false"
   },
   "source": [
    "Suppose there is a blood test that correctly detects vampirism 95% of the time.  \n",
    "\n",
    "$$Pr(positive test result|vampire) = 0.95$$"
   ]
  },
  {
   "cell_type": "markdown",
   "metadata": {
    "Collapsed": "false"
   },
   "source": [
    "<br>\n",
    "It’s a very accurate test, nearly always catching real vampires.   \n",
    "It also make mistakes, though, in the form of false positives.   \n",
    "One percent of the time, it incorrectly diagnoses normal people as vampires,   \n",
    "\n",
    "$$Pr(positive test result|mortal) = 0.01$$"
   ]
  },
  {
   "cell_type": "markdown",
   "metadata": {
    "Collapsed": "false"
   },
   "source": [
    "<br>\n",
    "The final bit of information we are told is that vampires are rather rare, being only 0.1%\n",
    "of the population, implying \n",
    "\n",
    "$$Pr(vampire) = 0.001$$ "
   ]
  },
  {
   "cell_type": "markdown",
   "metadata": {
    "Collapsed": "false"
   },
   "source": [
    "<br>\n",
    "Suppose now that someone tests positive for vampirism.  \n",
    "\n",
    "**What’s the probability that he or she is a vampire?**"
   ]
  },
  {
   "cell_type": "markdown",
   "metadata": {
    "Collapsed": "false"
   },
   "source": [
    "The correct approach is just to use Bayes’ theorem to invert the probability, to compute\n",
    "$Pr(vampire|positive)$.\n",
    "\n",
    "$$Pr(vampire|positive) =\\frac{Pr(positive|vampire) Pr(vampire)} {Pr(positive)}$$\n",
    "\n",
    "where $Pr(positive)$ is the average probability of a positive test result, that is,\n",
    "\n",
    "$$Pr(positive) = Pr(positive|vampire) Pr(vampire) + Pr(positive|mortal) (1 − Pr(vampire))$$"
   ]
  },
  {
   "cell_type": "markdown",
   "metadata": {
    "Collapsed": "false"
   },
   "source": [
    "#### Code 3.1"
   ]
  },
  {
   "cell_type": "code",
   "execution_count": null,
   "metadata": {
    "Collapsed": "false"
   },
   "outputs": [],
   "source": [
    "Pr_Pos_Vam = 0.95\n",
    "Pr_Pos_Mor = 0.01\n",
    "Pr_Vam = 0.001\n",
    "Pr_Pos = Pr_Pos_Vam * Pr_Vam + Pr_Pos_Mor * (1 - Pr_Vam)\n",
    "Pr_Vam_Pos = Pr_Pos_Vam * Pr_Vam / Pr_Pos\n",
    "Pr_Vam_Pos"
   ]
  },
  {
   "cell_type": "markdown",
   "metadata": {
    "Collapsed": "false"
   },
   "source": [
    "Most people find this result counterintuitive.   \n",
    "And it’s a very important result, because it mimics the structure of many realistic testing contexts, such as HIV and DNA testing,\n",
    "criminal profiling, and even statistical significance testing.   \n",
    "Whenever the condition of interest is very rare, having a test that finds all\n",
    "the true cases is still no guarantee that a positive result carries much information at all.   \n",
    "The reason is that most positive results are false positives, even when all the true positives are\n",
    "detected correctly."
   ]
  },
  {
   "cell_type": "markdown",
   "metadata": {
    "Collapsed": "false"
   },
   "source": [
    "There is a way to present the same problem that does make it more intuitive, however.  \n",
    "\n",
    "Suppose that instead of reporting probabilities, as before, I tell you the following:\n",
    "\n",
    "(1) In a population of 100,000 people, 100 of them are vampires.\n",
    "\n",
    "(2) Of the 100 who are vampires, 95 of them will test positive for vampirism.\n",
    "\n",
    "(3) Of the 99,900 mortals, 999 of them will test positive for vampirism.\n",
    "\n",
    "Now tell me, if we test all 100,000 people, what proportion of those who test positive for\n",
    "vampirism actually are vampires? Many people, although certainly not all people, find this\n",
    "presentation a lot easier.\n",
    "Now we can just count up the number of people who test positive:\n",
    "95 + 999 = 1094. Out of these 1094 positive tests, 95 of them are real vampires, so that\n",
    "implies:\n",
    "$$Pr(vampire|positive) = \\frac{95}{1094} ≈ 0.087$$\n",
    "It’s exactly the same answer as before."
   ]
  },
  {
   "cell_type": "markdown",
   "metadata": {
    "Collapsed": "false"
   },
   "source": [
    "Regardless of the explanation for this phenomenon, we can exploit it.   \n",
    "And in this chapter we exploit it by taking the probability distributions from the previous chapter and sampling from them to produce counts.   \n",
    "The posterior distribution is a probability distribution.  \n",
    "And like all probability distributions, we can imagine drawing samples from it.   \n",
    "The sampled events in this case are parameter values.   \n",
    "The Bayesian formalism treats parameter distributions as relative plausibility, not as\n",
    "any physical random process. \n",
    "But inside the computer, parameters are just as empirical as\n",
    "the outcome of a coin flip or a die toss or an agricultural experiment. The posterior defines\n",
    "the expected frequency that different parameter values will appear, once we start plucking\n",
    "parameters out of it."
   ]
  },
  {
   "cell_type": "markdown",
   "metadata": {
    "Collapsed": "false"
   },
   "source": [
    "This chapter teaches you basic skills for working with samples from the posterior distribution.   \n",
    "It will seem a little silly to work with samples at this point, because the posterior\n",
    "distribution for the globe tossing model is very simple.   \n",
    "It’s so simple that it’s no problem to\n",
    "work directly with the grid approximation or even the exact mathematical form.  \n",
    "\n",
    "But thereare two reasons to adopt the sampling approach early on, before it’s really necessary.\n",
    "\n",
    "First, many scientists are quite shaky about integral calculus.   \n",
    "Working with samples transforms a problem in calculus into a problem in data summary, into a frequency format problem.   \n",
    "An integral in a typical Bayesian context is just the total probability in some interval.   \n",
    "That can be a challenging calculus problem.   \n",
    "But once you have samples from the probability distribution,\n",
    "it’s just a matter of counting values in the interval.   \n",
    "Even seemingly simple calculations, like\n",
    "confidence intervals, are made difficult once a model has many parameters.   \n",
    "In those cases,\n",
    "one must average over the uncertainty in all other parameters, when describing the uncertainty in a focal parameter.   \n",
    "This requires a complicated integral, but only a very simple data\n",
    "summary.   \n",
    "An empirical attack on the posterior allows the scientist to ask and answer more\n",
    "questions about the model, without relying upon a captive mathematician.   \n",
    "For this reason,\n",
    "it is often easier and more intuitive to work with samples from the posterior, than to work\n",
    "with probabilities and integrals directly.\n",
    "\n",
    "Second, some of the most capable methods of computing the posterior produce nothing\n",
    "but samples. Many of these methods are variants of Markov chain Monte Carlo techniques\n",
    "(MCMC, Chapter 9).   \n",
    "So if you learn early on how to conceptualize and process samples from\n",
    "the posterior, when you inevitably must fit a model to data using MCMC, you will already\n",
    "know how to make sense of the output.   \n",
    "Beginning with Chapter 9 of this book, you will\n",
    "use MCMC to open up the types and complexity of models you can practically fit to data.\n",
    "MCMC is no longer a technique only for experts, but rather part of the standard toolkit of\n",
    "quantitative science.   \n",
    "So it’s worth planning ahead.  \n",
    "So in this chapter we’ll begin to use samples to summarize and simulate model output.  \n",
    "The skills you learn here will apply to every problem in the remainder of the book, even\n",
    "though the details of the models, how they are fit to data, and how the samples are produced\n",
    "will vary.\n"
   ]
  },
  {
   "cell_type": "markdown",
   "metadata": {
    "Collapsed": "false"
   },
   "source": [
    "<br><br><br>\n",
    "<img style=\"float: left;\" src=\"pic/02_01.png\"  width=\"550\">"
   ]
  },
  {
   "cell_type": "markdown",
   "metadata": {
    "Collapsed": "false"
   },
   "source": [
    "<br><br><br>\n",
    "<img style=\"float: left;\" src=\"pic/02_02.png\"  width=\"550\">"
   ]
  },
  {
   "cell_type": "markdown",
   "metadata": {
    "Collapsed": "false"
   },
   "source": [
    "<br><br><br>\n",
    "## stats.binom.pmf( ) 에 대해 알아보자"
   ]
  },
  {
   "cell_type": "markdown",
   "metadata": {
    "Collapsed": "false"
   },
   "source": [
    "<br><br><br>\n",
    "<img style=\"float: left;\" src=\"pic/02_02_2.png\"  width=\"550\">"
   ]
  },
  {
   "cell_type": "markdown",
   "metadata": {
    "Collapsed": "false"
   },
   "source": [
    "### 9번 던져 앞면이 6번 나오는 경우, p 값에 따른 likelihood Pr(p|N,W)"
   ]
  },
  {
   "cell_type": "code",
   "execution_count": null,
   "metadata": {},
   "outputs": [],
   "source": [
    "p_grid = np.linspace(0, 1, 100)\n",
    "p_grid"
   ]
  },
  {
   "cell_type": "code",
   "execution_count": null,
   "metadata": {
    "Collapsed": "false"
   },
   "outputs": [],
   "source": [
    "fig, ax = plt.subplots(1, 1)\n",
    "success=6\n",
    "tosses=9\n",
    "p_grid = np.linspace(0, 1, 100)\n",
    "likelihood = stats.binom.pmf(success, tosses, p_grid)\n",
    "ax.plot(p_grid, likelihood, 'bo', ms=3, label='binom pmf')\n",
    "#ax.vlines(p_grid, 0,likelihood, colors='b', lw=5, alpha=0.5)"
   ]
  },
  {
   "cell_type": "markdown",
   "metadata": {
    "Collapsed": "false"
   },
   "source": [
    "### p=0.4 이고, 9번 던지는  경우, 앞면이 나오는 횟수에 따른 likelihood Pr(W|N,p)"
   ]
  },
  {
   "cell_type": "code",
   "execution_count": null,
   "metadata": {
    "Collapsed": "false"
   },
   "outputs": [],
   "source": [
    "fig, ax = plt.subplots(1, 1)\n",
    "success_grid=np.arange(10)  # 정수\n",
    "tosses=9\n",
    "p = 0.4\n",
    "likelihood = stats.binom.pmf(success_grid, tosses, p)\n",
    "ax.plot(success_grid, likelihood, 'bo', ms=8, label='binom pmf')\n",
    "ax.vlines(success_grid, 0,likelihood, colors='b', lw=5, alpha=0.5)"
   ]
  },
  {
   "cell_type": "markdown",
   "metadata": {
    "Collapsed": "false"
   },
   "source": [
    "### p=0.4 이고,  앞면이 6번 나오는 경우, 던진 횟수에 따른 likelihood Pr(N|W,p)"
   ]
  },
  {
   "cell_type": "code",
   "execution_count": null,
   "metadata": {
    "Collapsed": "false"
   },
   "outputs": [],
   "source": [
    "fig, ax = plt.subplots(1, 1)\n",
    "success=6  \n",
    "tosses_grid=np.arange(40)\n",
    "p = 0.4\n",
    "likelihood = stats.binom.pmf(success, tosses_grid, p)\n",
    "ax.plot(tosses_grid, likelihood, 'bo', ms=5, label='binom pmf')\n",
    "ax.vlines(tosses_grid, 0,likelihood, colors='b', lw=3, alpha=0.5)"
   ]
  },
  {
   "cell_type": "markdown",
   "metadata": {
    "Collapsed": "false"
   },
   "source": [
    "#### Code 3.2 - 3.5\n",
    "\n",
    "We are goint to use the same function we use on chapter 2 (code 2.3)"
   ]
  },
  {
   "cell_type": "code",
   "execution_count": null,
   "metadata": {
    "Collapsed": "false"
   },
   "outputs": [],
   "source": [
    "def posterior_grid_approx(grid_points=100, success=6, tosses=9):\n",
    "    \"\"\"\n",
    "    \"\"\"\n",
    "    # define grid\n",
    "    p_grid = np.linspace(0, 1, grid_points)\n",
    "\n",
    "    # define prior\n",
    "    prior = np.repeat(1, grid_points)  # uniform # prior = array([1,1,1...,1])\n",
    "    #prior = (p_grid >= 0.5).astype(int)  # truncated\n",
    "    #prior = np.exp(- 5 * abs(p_grid - 0.5))  # double exp\n",
    "\n",
    "    # compute likelihood at each point in the grid\n",
    "    likelihood = stats.binom.pmf(success, tosses, p_grid)\n",
    "\n",
    "    # compute product of likelihood and prior\n",
    "    unstd_posterior = likelihood * prior\n",
    "\n",
    "    # standardize the posterior, so it sums to 1\n",
    "    posterior = unstd_posterior / unstd_posterior.sum()\n",
    "    return p_grid, posterior"
   ]
  },
  {
   "cell_type": "code",
   "execution_count": null,
   "metadata": {
    "Collapsed": "false"
   },
   "outputs": [],
   "source": [
    "p_grid, posterior = posterior_grid_approx(grid_points=100, success=6, tosses=9)\n",
    "samples = np.random.choice(p_grid, p=posterior, size=int(1e4), replace=True)"
   ]
  },
  {
   "cell_type": "markdown",
   "metadata": {
    "Collapsed": "false"
   },
   "source": [
    "<br><br><br>\n",
    "<img style=\"float: left;\" src=\"pic/02_02_3.png\"  width=\"850\">"
   ]
  },
  {
   "cell_type": "code",
   "execution_count": null,
   "metadata": {
    "Collapsed": "false"
   },
   "outputs": [],
   "source": [
    "aa_milne_arr = ['pooh', 'rabbit', 'piglet', 'Christopher']\n",
    "np.random.choice(aa_milne_arr, 10, p=[0.5, 0.1, 0.1, 0.3])\n"
   ]
  },
  {
   "cell_type": "code",
   "execution_count": null,
   "metadata": {
    "Collapsed": "false"
   },
   "outputs": [],
   "source": [
    "samples.shape"
   ]
  },
  {
   "cell_type": "code",
   "execution_count": null,
   "metadata": {
    "Collapsed": "false"
   },
   "outputs": [],
   "source": [
    "samples"
   ]
  },
  {
   "cell_type": "code",
   "execution_count": null,
   "metadata": {
    "Collapsed": "false"
   },
   "outputs": [],
   "source": [
    "_, (ax0, ax1) = plt.subplots(1,2, figsize=(12,6))\n",
    "ax0.plot(samples, 'o', alpha=0.2)\n",
    "ax0.set_xlabel('sample number', fontsize=14)\n",
    "ax0.set_ylabel('proportion water (p)', fontsize=14)\n",
    "az.plot_kde(samples, ax=ax1)\n",
    "ax1.set_xlabel('proportion water (p)', fontsize=14)\n",
    "ax1.set_ylabel('density', fontsize=14);"
   ]
  },
  {
   "cell_type": "code",
   "execution_count": null,
   "metadata": {
    "Collapsed": "false"
   },
   "outputs": [],
   "source": [
    "posterior.shape"
   ]
  },
  {
   "cell_type": "code",
   "execution_count": null,
   "metadata": {
    "Collapsed": "false"
   },
   "outputs": [],
   "source": [
    "samples.shape"
   ]
  },
  {
   "cell_type": "markdown",
   "metadata": {
    "Collapsed": "false"
   },
   "source": [
    "<br><br><br>\n",
    "<img style=\"float: left;\" src=\"pic/02_03.png\"  width=\"550\">"
   ]
  },
  {
   "cell_type": "markdown",
   "metadata": {
    "Collapsed": "false"
   },
   "source": [
    "#### Code 3.6"
   ]
  },
  {
   "cell_type": "code",
   "execution_count": null,
   "metadata": {
    "Collapsed": "false"
   },
   "outputs": [],
   "source": [
    "sum(posterior[ p_grid < 0.5 ])"
   ]
  },
  {
   "cell_type": "markdown",
   "metadata": {
    "Collapsed": "false"
   },
   "source": [
    "#### Code 3.7"
   ]
  },
  {
   "cell_type": "code",
   "execution_count": null,
   "metadata": {
    "Collapsed": "false"
   },
   "outputs": [],
   "source": [
    "sum( samples < 0.5 ) / 1e4"
   ]
  },
  {
   "cell_type": "markdown",
   "metadata": {
    "Collapsed": "false"
   },
   "source": [
    "#### Code 3.8"
   ]
  },
  {
   "cell_type": "code",
   "execution_count": null,
   "metadata": {
    "Collapsed": "false"
   },
   "outputs": [],
   "source": [
    "sum((samples > 0.5) & (samples < 0.75)) / 1e4"
   ]
  },
  {
   "cell_type": "markdown",
   "metadata": {
    "Collapsed": "false"
   },
   "source": [
    "<br><br><br>\n",
    "<img style=\"float: left;\" src=\"pic/02_04.png\"  width=\"550\">"
   ]
  },
  {
   "cell_type": "markdown",
   "metadata": {
    "Collapsed": "false"
   },
   "source": [
    "#### Code 3.9"
   ]
  },
  {
   "cell_type": "code",
   "execution_count": null,
   "metadata": {
    "Collapsed": "false"
   },
   "outputs": [],
   "source": [
    "np.percentile(samples, 80)"
   ]
  },
  {
   "cell_type": "code",
   "execution_count": null,
   "metadata": {
    "Collapsed": "false"
   },
   "outputs": [],
   "source": [
    "sum(samples < 0.7575757575757577)/1e4"
   ]
  },
  {
   "cell_type": "code",
   "execution_count": null,
   "metadata": {
    "Collapsed": "false"
   },
   "outputs": [],
   "source": [
    "sum(samples < 0.7575757575757578 ) / 1e4"
   ]
  },
  {
   "cell_type": "markdown",
   "metadata": {
    "Collapsed": "false"
   },
   "source": [
    "#### Code 3.10"
   ]
  },
  {
   "cell_type": "code",
   "execution_count": null,
   "metadata": {
    "Collapsed": "false"
   },
   "outputs": [],
   "source": [
    "np.percentile(samples, [10, 90])"
   ]
  },
  {
   "cell_type": "markdown",
   "metadata": {
    "Collapsed": "false"
   },
   "source": [
    "#### Code 3.11"
   ]
  },
  {
   "cell_type": "code",
   "execution_count": null,
   "metadata": {
    "Collapsed": "false"
   },
   "outputs": [],
   "source": [
    "p_grid, posterior = posterior_grid_approx(success=3, tosses=3)\n",
    "plt.plot(p_grid, posterior)\n",
    "plt.xlabel('proportion water (p)', fontsize=14)\n",
    "plt.ylabel('Density', fontsize=14);"
   ]
  },
  {
   "cell_type": "markdown",
   "metadata": {
    "Collapsed": "false"
   },
   "source": [
    "<br><br><br>\n",
    "<img style=\"float: left;\" src=\"pic/02_05.png\"  width=\"550\">"
   ]
  },
  {
   "cell_type": "markdown",
   "metadata": {
    "Collapsed": "false"
   },
   "source": [
    "#### Code 3.12"
   ]
  },
  {
   "cell_type": "code",
   "execution_count": null,
   "metadata": {
    "Collapsed": "false"
   },
   "outputs": [],
   "source": [
    "samples = np.random.choice(p_grid, p=posterior, size=int(1e4), replace=True)\n",
    "np.percentile(samples, [25, 75])"
   ]
  },
  {
   "cell_type": "markdown",
   "metadata": {
    "Collapsed": "false"
   },
   "source": [
    "#### Code 3.13"
   ]
  },
  {
   "cell_type": "code",
   "execution_count": null,
   "metadata": {
    "Collapsed": "false"
   },
   "outputs": [],
   "source": [
    "#az.hpd(samples, credible_interval=0.5)"
   ]
  },
  {
   "cell_type": "markdown",
   "metadata": {
    "Collapsed": "false"
   },
   "source": [
    "<br><br><br>\n",
    "<img style=\"float: left;\" src=\"pic/02_06.png\"  width=\"550\">"
   ]
  },
  {
   "cell_type": "markdown",
   "metadata": {
    "Collapsed": "false"
   },
   "source": [
    "#### Code 3.14: \n",
    "#### maximum a posteriori (MAP) estimate: the parameter value with highest posterior probability"
   ]
  },
  {
   "cell_type": "code",
   "execution_count": null,
   "metadata": {
    "Collapsed": "false"
   },
   "outputs": [],
   "source": [
    "p_grid[posterior == max(posterior)]"
   ]
  },
  {
   "cell_type": "markdown",
   "metadata": {
    "Collapsed": "false"
   },
   "source": [
    "#### Code 3.15"
   ]
  },
  {
   "cell_type": "code",
   "execution_count": null,
   "metadata": {
    "Collapsed": "false"
   },
   "outputs": [],
   "source": [
    "stats.mode(samples)[0]"
   ]
  },
  {
   "cell_type": "markdown",
   "metadata": {
    "Collapsed": "false"
   },
   "source": [
    "#### Code 3.16"
   ]
  },
  {
   "cell_type": "code",
   "execution_count": null,
   "metadata": {
    "Collapsed": "false"
   },
   "outputs": [],
   "source": [
    "np.mean(samples), np.median(samples)"
   ]
  },
  {
   "cell_type": "markdown",
   "metadata": {
    "Collapsed": "false"
   },
   "source": [
    "####  Loss: true p 와의 difference로 정의하자"
   ]
  },
  {
   "cell_type": "markdown",
   "metadata": {
    "Collapsed": "false"
   },
   "source": [
    "#### Code 3.17: 만일 true p = 0.5 라면 loss는"
   ]
  },
  {
   "cell_type": "code",
   "execution_count": null,
   "metadata": {
    "Collapsed": "false"
   },
   "outputs": [],
   "source": [
    "sum(posterior * abs(0.5 - p_grid)) # posterior는 p=0 ~ p=1 사이의 probability 이다. abs(0.5 - p)는 각 p와 0.5 사이의 차이이다."
   ]
  },
  {
   "cell_type": "code",
   "execution_count": null,
   "metadata": {},
   "outputs": [],
   "source": [
    "sum(posterior)"
   ]
  },
  {
   "cell_type": "code",
   "execution_count": null,
   "metadata": {},
   "outputs": [],
   "source": [
    "abs(0.5-p_grid)"
   ]
  },
  {
   "cell_type": "code",
   "execution_count": null,
   "metadata": {},
   "outputs": [],
   "source": [
    "len(posterior)"
   ]
  },
  {
   "cell_type": "markdown",
   "metadata": {
    "Collapsed": "false"
   },
   "source": [
    "<br><br><br>\n",
    "<img style=\"float: left;\" src=\"pic/02_07.png\"  width=\"550\">"
   ]
  },
  {
   "cell_type": "markdown",
   "metadata": {
    "Collapsed": "false"
   },
   "source": [
    "#### Code 3.18 and 3.19"
   ]
  },
  {
   "cell_type": "code",
   "execution_count": null,
   "metadata": {
    "Collapsed": "false"
   },
   "outputs": [],
   "source": [
    "loss = [sum(posterior * abs(p - p_grid)) for p in p_grid]\n",
    "p_grid[loss == min(loss)]"
   ]
  },
  {
   "cell_type": "markdown",
   "metadata": {
    "Collapsed": "false"
   },
   "source": [
    "#### Code 3.20\n",
    "#### n=2, p=0.7 일때 success의 갯수 - 수식으로부터 구함"
   ]
  },
  {
   "cell_type": "code",
   "execution_count": null,
   "metadata": {
    "Collapsed": "false"
   },
   "outputs": [],
   "source": [
    "stats.binom.pmf(range(3), n=2, p=0.7)"
   ]
  },
  {
   "cell_type": "markdown",
   "metadata": {
    "Collapsed": "false"
   },
   "source": [
    "#### Code 3.21: 시뮬레이션, 랜덤하게 한번 실행함"
   ]
  },
  {
   "cell_type": "code",
   "execution_count": null,
   "metadata": {
    "Collapsed": "false"
   },
   "outputs": [],
   "source": [
    "stats.binom.rvs(n=2, p=0.7, size=1)"
   ]
  },
  {
   "cell_type": "markdown",
   "metadata": {
    "Collapsed": "false"
   },
   "source": [
    "#### Code 3.22: 랜덤하게 10번 실행"
   ]
  },
  {
   "cell_type": "code",
   "execution_count": null,
   "metadata": {
    "Collapsed": "false"
   },
   "outputs": [],
   "source": [
    "stats.binom.rvs(n=2, p=0.7, size=10)"
   ]
  },
  {
   "cell_type": "markdown",
   "metadata": {
    "Collapsed": "false"
   },
   "source": [
    "#### Code 3.23: 랜덤하게 100000번 실행"
   ]
  },
  {
   "cell_type": "code",
   "execution_count": null,
   "metadata": {
    "Collapsed": "false"
   },
   "outputs": [],
   "source": [
    "dummy_w = stats.binom.rvs(n=2, p=0.7, size=int(1e5))\n",
    "[(dummy_w == i).mean() for i in range(3)]"
   ]
  },
  {
   "cell_type": "markdown",
   "metadata": {
    "Collapsed": "false"
   },
   "source": [
    "#### Code 3.24, 3.25 and 3.26: n=9, p=0.7 100000번 실행후 water가 나온 갯수별 횟수"
   ]
  },
  {
   "cell_type": "code",
   "execution_count": null,
   "metadata": {
    "Collapsed": "false",
    "scrolled": true
   },
   "outputs": [],
   "source": [
    "dummy_w = stats.binom.rvs(n=9, p=0.7, size=int(1e5))\n",
    "#dummy_w = stats.binom.rvs(n=9, p=0.6, size=int(1e4))\n",
    "#dummy_w = stats.binom.rvs(n=9, p=samples)\n",
    "plt.hist(dummy_w, bins=50)\n",
    "plt.xlabel('dummy water count', fontsize=14)\n",
    "plt.ylabel('Frequency', fontsize=14);"
   ]
  },
  {
   "cell_type": "markdown",
   "metadata": {
    "Collapsed": "false"
   },
   "source": [
    "## 이하 생략"
   ]
  },
  {
   "cell_type": "markdown",
   "metadata": {
    "Collapsed": "false"
   },
   "source": [
    "### 연습문제"
   ]
  },
  {
   "cell_type": "markdown",
   "metadata": {
    "Collapsed": "false"
   },
   "source": [
    "#### Code 3.27"
   ]
  },
  {
   "cell_type": "code",
   "execution_count": null,
   "metadata": {
    "Collapsed": "false"
   },
   "outputs": [],
   "source": [
    "p_grid, posterior = posterior_grid_approx(grid_points=100, success=6, tosses=9)\n",
    "np.random.seed(100)\n",
    "samples = np.random.choice(p_grid, p=posterior, size=int(1e4), replace=True)"
   ]
  },
  {
   "cell_type": "markdown",
   "metadata": {
    "Collapsed": "false"
   },
   "source": [
    "#### Code 3.28"
   ]
  },
  {
   "cell_type": "code",
   "execution_count": null,
   "metadata": {
    "Collapsed": "false"
   },
   "outputs": [],
   "source": [
    "birth1 = np.array([1,0,0,0,1,1,0,1,0,1,0,0,1,1,0,1,1,0,0,0,1,0,0,0,1,0, 0,0,0,1,1,1,0,1,0,1,1,1,0,1,0,1,1,0,1,0,0,1,1,0,1,0,0,0,0,0,0,0, 1,1,0,1,0,0,1,0,0,0,1,0,0,1,1,1,1,0,1,0,1,1,1,1,1,0,0,1,0,1,1,0,1,0,1,1,1,0,1,1,1,1])\n",
    "birth2 = np.array([0,1,0,1,0,1,1,1,0,0,1,1,1,1,1,0,0,1,1,1,0,0,1,1,1,0,\n",
    "1,1,1,0,1,1,1,0,1,0,0,1,1,1,1,0,0,1,0,1,1,1,1,1,1,1,1,1,1,1,1,1,\n",
    "1,1,1,0,1,1,0,1,1,0,1,1,1,0,0,0,0,0,0,1,0,0,0,1,1,0,0,1,0,0,1,1,\n",
    "0,0,0,1,1,1,0,0,0,0])"
   ]
  },
  {
   "cell_type": "markdown",
   "metadata": {
    "Collapsed": "false",
    "heading_collapsed": true
   },
   "source": [
    "#### Code 3.29"
   ]
  },
  {
   "cell_type": "markdown",
   "metadata": {
    "Collapsed": "false"
   },
   "source": [
    "#### Code 3.30"
   ]
  },
  {
   "cell_type": "code",
   "execution_count": null,
   "metadata": {
    "Collapsed": "false"
   },
   "outputs": [],
   "source": [
    "sum(birth1) + sum(birth2)"
   ]
  },
  {
   "cell_type": "code",
   "execution_count": null,
   "metadata": {
    "Collapsed": "false"
   },
   "outputs": [],
   "source": [
    "import sys, IPython, scipy, matplotlib, platform\n",
    "print(\"\"\"This notebook was created using:\\nPython {}\\nIPython {}\\nPyMC3 {}\\nArviZ {}\\nNumPy {}\\nSciPy {}\\nMatplotlib {}\\n\"\"\".format(sys.version[:5], IPython.__version__, pm.__version__, az.__version__, np.__version__, scipy.__version__, matplotlib.__version__))"
   ]
  },
  {
   "cell_type": "code",
   "execution_count": null,
   "metadata": {
    "Collapsed": "false"
   },
   "outputs": [],
   "source": []
  }
 ],
 "metadata": {
  "hide_input": false,
  "kernelspec": {
   "display_name": "Python 3 (ipykernel)",
   "language": "python",
   "name": "python3"
  },
  "language_info": {
   "codemirror_mode": {
    "name": "ipython",
    "version": 3
   },
   "file_extension": ".py",
   "mimetype": "text/x-python",
   "name": "python",
   "nbconvert_exporter": "python",
   "pygments_lexer": "ipython3",
   "version": "3.7.6"
  }
 },
 "nbformat": 4,
 "nbformat_minor": 4
}
