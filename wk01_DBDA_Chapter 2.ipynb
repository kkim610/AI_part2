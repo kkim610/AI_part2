{
 "cells": [
  {
   "cell_type": "markdown",
   "metadata": {
    "Collapsed": "false"
   },
   "source": [
    "# 통계학의 두 학파"
   ]
  },
  {
   "cell_type": "markdown",
   "metadata": {
    "Collapsed": "false"
   },
   "source": [
    "Frequentist(빈도주의자) vs. Baysian(베이지안, 베이스주의자)"
   ]
  },
  {
   "cell_type": "markdown",
   "metadata": {
    "Collapsed": "false"
   },
   "source": [
    "예: 한국 성인의 평균 키는 얼마인가? "
   ]
  },
  {
   "cell_type": "markdown",
   "metadata": {
    "Collapsed": "false"
   },
   "source": [
    "## 빈도주의자"
   ]
  },
  {
   "cell_type": "markdown",
   "metadata": {
    "Collapsed": "false"
   },
   "source": [
    "For a frequentist, this number is unknown but fixed. This is a natural intuitive view, as you can imagine that if you go through all Korean adult citizens one by one, measure their height and average the list, you will get the actual number."
   ]
  },
  {
   "cell_type": "markdown",
   "metadata": {
    "Collapsed": "false"
   },
   "source": [
    "However, since you do not have access to all Korean citizens, you take a sample of, say, a thousand citizens, measure and average their height to produce a point estimate, and then calculate the estimate of your error. The point is that the frequentist looks at the average height as a single unknown number."
   ]
  },
  {
   "cell_type": "markdown",
   "metadata": {
    "Collapsed": "false"
   },
   "source": [
    "## 베이지안"
   ]
  },
  {
   "cell_type": "markdown",
   "metadata": {
    "Collapsed": "false"
   },
   "source": [
    "A Bayesian statistician, however, would have an entirely different take on the situation. A Bayesian would look at the average height of the citizens not as a fixed number, but instead as an unknown distribution (you might imagine here a “bell” shaped normal distribution)."
   ]
  },
  {
   "cell_type": "markdown",
   "metadata": {
    "Collapsed": "false"
   },
   "source": [
    "Initially, the Bayesian statistician has some basic prior knowledge which is being assumed: for example, that the average height is somewhere between 50cm and 250cm."
   ]
  },
  {
   "cell_type": "markdown",
   "metadata": {
    "Collapsed": "false"
   },
   "source": [
    "Then, the Bayesian begins to measure heights of specific Korean citizens, and with each measurement updates the distribution to become a bit more “bell-shaped” around the average height measured so far. As more data is collected, the “bell” becomes sharper and more concentrated around the measured average height."
   ]
  },
  {
   "cell_type": "markdown",
   "metadata": {
    "Collapsed": "false"
   },
   "source": [
    "# Chapter 2 - Introduction: Credibility, Models, and Parameters"
   ]
  },
  {
   "cell_type": "markdown",
   "metadata": {
    "Collapsed": "false"
   },
   "source": [
    "### text: Doing Bayesian Data Analysis: A Tutorial with R, JAGS, and Stan"
   ]
  },
  {
   "cell_type": "markdown",
   "metadata": {
    "Collapsed": "false"
   },
   "source": [
    "The goal of this chapter is to introduce the conceptual framework of Bayesian data\n",
    "analysis.   \n",
    "Bayesian data analysis has two foundational ideas.   \n",
    "The first idea is that Bayesian\n",
    "inference is reallocation of credibility across possibilities.   \n",
    "The second foundational idea\n",
    "is that the possibilities, over which we allocate credibility, are parameter values in\n",
    "meaningful mathematical models."
   ]
  },
  {
   "cell_type": "code",
   "execution_count": 2,
   "metadata": {
    "Collapsed": "false"
   },
   "outputs": [],
   "source": [
    "import pandas as pd\n",
    "import numpy as np\n",
    "#import pymc3 as pm\n",
    "import matplotlib.pyplot as plt\n",
    "import seaborn as sns\n",
    "import warnings\n",
    "warnings.filterwarnings(\"ignore\", category=FutureWarning)\n",
    "\n",
    "from IPython.display import Image\n",
    "from matplotlib import gridspec\n",
    "\n",
    "%matplotlib inline\n",
    "\n",
    "plt.style.use('seaborn-white')\n",
    "color = '#87ceeb'"
   ]
  },
  {
   "cell_type": "markdown",
   "metadata": {
    "Collapsed": "false"
   },
   "source": [
    "## 2.1. BAYESIAN INFERENCE IS REALLOCATION OF CREDIBILITY\n",
    "## &nbsp;&nbsp;&nbsp;&nbsp;&nbsp;&nbsp;        ACROSS POSSIBILITIES"
   ]
  },
  {
   "cell_type": "markdown",
   "metadata": {
    "Collapsed": "false"
   },
   "source": [
    "셜록홈즈는 어떤 범죄의 가능한 원인들을 생각했다.\n",
    "물론 그 원인들 중에는 증거를 조사해 보기전에는 거의 일어날 수 없는 원인들도 포함되어 있다. \n",
    "셜록홈즈가 증거를 조사해서 그 원인이 일어날 수 없다면, 그 원인을 범죄의 가능한 원인에서 제외한다.\n",
    "만일 하나만 제외하고 나머지 모든 원인들이 제거 된다면, 처음에는 불가능해 보였던 원인도 실제 원인으로 결론 내릴수 있다."
   ]
  },
  {
   "cell_type": "markdown",
   "metadata": {
    "Collapsed": "false"
   },
   "source": [
    "There are just four possible causes of the outcome to be explained.   \n",
    "We label the\n",
    "causes A, B, C, and D.   "
   ]
  },
  {
   "cell_type": "markdown",
   "metadata": {
    "Collapsed": "false"
   },
   "source": [
    "<br><br>\n",
    "<img style=\"float: left;\" src=\"pic3/02_01.png\"  width=\"650\">"
   ]
  },
  {
   "cell_type": "markdown",
   "metadata": {
    "Collapsed": "false"
   },
   "source": [
    "The heights of the bars in the graphs indicate the credibility\n",
    "of the candidate causes. (“Credibility” is synonymous with “probability”; here I use\n",
    "the everyday term “credibility” but later in the book, when mathematical formalisms\n",
    "are introduced, I will also use the term “probability.”)   "
   ]
  },
  {
   "cell_type": "markdown",
   "metadata": {
    "Collapsed": "false"
   },
   "source": [
    "Credibility(신뢰도, 신용도) can range from zero\n",
    "to one.   \n",
    "If the credibility of a candidate cause is zero, then the cause is definitely not\n",
    "responsible.  \n",
    "If the credibility of a candidate cause is one, then the cause definitely is\n",
    "responsible.   \n",
    "Because we assume that the candidate causes are mutually exclusive and\n",
    "exhaust all possible causes, the total credibility across causes sums to one."
   ]
  },
  {
   "cell_type": "markdown",
   "metadata": {
    "Collapsed": "false"
   },
   "source": [
    "The upper-left panel of Figure 2.1 shows that the **prior** credibilities of the four\n",
    "candidate causes are equal, all at 0.25.   \n",
    "Suppose we make new observations that rule out candidate cause A.\n",
    "For example, if A is a suspect in a crime, we may learn that A was far from the crime\n",
    "scene at the time.   \n",
    "Therefore, we must re-allocate credibility to the remaining candidate\n",
    "causes, B through D, as shown in the lower-left panel of Figure 2.1.   \n",
    "The re-allocated\n",
    "distribution of credibility is called the **posterior** distribution because it is what we believe\n",
    "after taking into account the new observations.   \n",
    "The posterior distribution gives zero\n",
    "credibility to cause A, and allocates credibilities of 0.33 (i.e., 1/3) to candidate causes B,\n",
    "C, and D.\n",
    "**The posterior distribution then becomes the prior beliefs for subsequent observations.**\n",
    "Thus, the prior distribution in the upper-middle of Figure 2.1 is the posterior\n",
    "distribution from the lower left. Suppose now that additional new evidence rules out\n",
    "candidate cause B. We now must re-allocate credibility to the remaining candidate causes, C and D, as shown in the lower-middle panel of Figure 2.1."
   ]
  },
  {
   "cell_type": "markdown",
   "metadata": {
    "Collapsed": "false"
   },
   "source": [
    "This reallocation of credibility is not only intuitive,\n",
    "it is also what the exact mathematics of Bayesian inference prescribe, as will be explained\n",
    "later in the book."
   ]
  },
  {
   "cell_type": "markdown",
   "metadata": {
    "Collapsed": "false"
   },
   "source": [
    "<br><br>\n",
    "<img style=\"float: left;\" src=\"pic3/02_02.png\"  width=\"650\">"
   ]
  },
  {
   "cell_type": "markdown",
   "metadata": {
    "Collapsed": "false"
   },
   "source": [
    "### 2.1.1. Data are noisy and inferences are probabilistic"
   ]
  },
  {
   "cell_type": "markdown",
   "metadata": {
    "Collapsed": "false"
   },
   "source": [
    "Here is a simplified illustration of Bayesian inference when data are noisy.   \n",
    "Suppose\n",
    "there is a manufacturer of inflated bouncy balls, and the balls are produced in four\n",
    "discrete sizes, namely diameters of 1.0, 2.0, 3.0, and 4.0 (on some scale of distance\n",
    "such as decimeters).   \n",
    "The manufacturing process is quite variable, however, because of\n",
    "randomness in degrees of inflation even for a single size ball.   \n",
    "Thus, balls of manufactured\n",
    "size 3 might have diameters of 1.8 or 4.2, even though their average diameter is 3.0.  \n",
    "Suppose we submit an order to the factory for three balls of size 2.  \n",
    "We receive three balls\n",
    "and measure their diameters as best we can, and find that the three balls have diameters\n",
    "of 1.77, 2.23, and 2.70.   \n",
    "From those measurements, can we conclude that the factory\n",
    "correctly sent us three balls of size 2, or did the factory send size 3 or size 1 by mistake,\n",
    "or even size 4?"
   ]
  },
  {
   "cell_type": "markdown",
   "metadata": {
    "Collapsed": "false"
   },
   "source": [
    "<br><br>\n",
    "<img style=\"float: left;\" src=\"pic3/02_03.png\"  width=\"650\">"
   ]
  },
  {
   "cell_type": "markdown",
   "metadata": {
    "Collapsed": "false"
   },
   "source": [
    "Figure 2.3 shows a Bayesian answer to this question.   \n",
    "The upper graph shows the four possible sizes, with blue bars at positions 1, 2, 3, and 4.   \n",
    "The prior credibilities of the\n",
    "four sizes are set equal, at heights of 0.25, representing the idea that the factory received\n",
    "the order for three balls, but may have completely lost track of which size was ordered,\n",
    "hence any size is equally possible to have been sent.  "
   ]
  },
  {
   "cell_type": "markdown",
   "metadata": {
    "Collapsed": "false"
   },
   "source": [
    "At this point, we must specify the form of random variability in ball diameters.  \n",
    "For purposes of illustration, we will suppose that ball diameters are centered on their\n",
    "manufactured size, but could be bigger or smaller depending on the amount of inflation.  \n",
    "The bell-shaped curves in Figure 2.3 indicate the probability of diameters produced by\n",
    "each size.   \n",
    "Thus, the bell-shaped curve centered on size 2 indicates that size-2 balls are\n",
    "usually about 2.0 units in diameter, but could be much bigger or smaller because of\n",
    "randomness in inflation.   \n",
    "The horizontal axis in Figure 2.3 is playing double duty as a\n",
    "scale for the ball sizes (i.e., blue bars) and for the measured diameters (suggested by the\n",
    "bell-shaped distributions)."
   ]
  },
  {
   "cell_type": "markdown",
   "metadata": {
    "Collapsed": "false"
   },
   "source": [
    "The lower panel of Figure 2.3 shows the three measured diameters plotted as circles\n",
    "on the horizontal axis.   \n",
    "You can see that the measured diameters are closest to sizes 2\n",
    "or 3, but the bell-shaped distributions reveal that even size 1 could sometimes produce\n",
    "balls of those diameters.   \n",
    "Intuitively, therefore, we would say that size 2 is most credible,\n",
    "given the data, but size 3 is also somewhat possible, and size 1 is remotely possible,\n",
    "but size 4 is rather unlikely.   \n",
    "These intuitions are precisely reflected by Bayesian analysis, which is shown in the lower panel of Figure 2.3.   \n",
    "The heights of the blue bars show the\n",
    "exact reallocation of credibility across the four candidate sizes.   \n",
    "Given the data, there is\n",
    "56% probability that the balls are size 2, 31% probability that the balls are size 3, 11%\n",
    "probability that the balls are size 1, and only 2% probability that the balls are size 4."
   ]
  },
  {
   "cell_type": "markdown",
   "metadata": {
    "Collapsed": "false"
   },
   "source": [
    "Inferring the underlying manufactured size of the balls from their “noisy” individual\n",
    "diameters is analogous to data analysis in real-world scientific research and applications.  \n",
    "The data are noisy indicators of the underlying generator.   \n",
    "We hypothesize a range of\n",
    "possible underlying generators, and from the data we infer their relative credibilities."
   ]
  },
  {
   "cell_type": "markdown",
   "metadata": {
    "Collapsed": "false"
   },
   "source": [
    "As another example, consider testing people for illicit(불법) drug use.   \n",
    "A person is taken\n",
    "at random from a population and given a blood test for an illegal drug.   \n",
    "From the result\n",
    "of the test, we infer whether or not the person has used the drug.   \n",
    "But, crucially, the\n",
    "test is not perfect, it is noisy.   \n",
    "The test has a non-trivial probability of producing false\n",
    "positives and false negatives.   \n",
    "And we must also take into account our prior knowledge that the drug is used by only a small proportion of the population.   \n",
    "Thus, the set of\n",
    "possibilities has two values: The person uses the drug or does not.   \n",
    "The two possibilities\n",
    "have prior credibilities based on previous knowledge of how prevalent drug use is in\n",
    "the population.   \n",
    "The noisy datum is the result of the drug test.   \n",
    "We then use Bayesian\n",
    "inference to re-allocate credibility across the possibilities.   \n",
    "As we will see quantitatively\n",
    "later in the book, the posterior probability of drug use is often surprisingly small even\n",
    "when the test result is positive, because the prior probability of drug use is small and the\n",
    "test is noisy.   \n"
   ]
  },
  {
   "cell_type": "markdown",
   "metadata": {
    "Collapsed": "false"
   },
   "source": [
    "This is true not only for tests of drug use, but also for tests of diseases such\n",
    "as cancer.   \n",
    "A related real-world application of Bayesian inference is detection of spam\n",
    "in email.   \n",
    "Automated spam filters often use Bayesian inference to compute a posterior\n",
    "probability that an incoming message is spam."
   ]
  },
  {
   "cell_type": "markdown",
   "metadata": {
    "Collapsed": "false"
   },
   "source": [
    "In summary, the essence of Bayesian inference is reallocation of credibility across\n",
    "possibilities.   \n",
    "The distribution of credibility initially reflects prior knowledge about the\n",
    "possibilities, which can be quite vague.   \n",
    "Then new data are observed, and the credibility is\n",
    "re-allocated.   \n",
    "Possibilities that are consistent with the data garner more credibility, while\n",
    "possibilities that are not consistent with the data lose credibility.  \n",
    "Bayesian analysis is the\n",
    "mathematics of re-allocating credibility in a logically coherent and precise way."
   ]
  },
  {
   "cell_type": "markdown",
   "metadata": {
    "Collapsed": "false"
   },
   "source": [
    "## 2.2. POSSIBILITIES ARE PARAMETER VALUES IN DESCRIPTIVE MODELS"
   ]
  },
  {
   "cell_type": "markdown",
   "metadata": {
    "Collapsed": "false"
   },
   "source": [
    "<br><br>\n",
    "<img style=\"float: left;\" src=\"pic3/02_04.png\"  width=\"650\">"
   ]
  },
  {
   "cell_type": "markdown",
   "metadata": {
    "Collapsed": "false"
   },
   "source": [
    "## 2.3. THE STEPS OF BAYESIAN DATA ANALYSIS"
   ]
  },
  {
   "cell_type": "markdown",
   "metadata": {
    "Collapsed": "false"
   },
   "source": [
    "1. Identify the data relevant to the research questions.  \n",
    "What are the measurement scales\n",
    "of the data?   \n",
    "Which data variables are to be predicted, and which data variables are\n",
    "supposed to act as predictors?\n",
    "\n",
    "2. Define a descriptive model for the relevant data.   \n",
    "The mathematical form and its\n",
    "parameters should be meaningful and appropriate to the theoretical purposes of the\n",
    "analysis.\n",
    "\n",
    "3. Specify a prior distribution on the parameters.   \n",
    "The prior must pass muster with the\n",
    "audience of the analysis, such as skeptical scientists.\n",
    "\n",
    "4. Use Bayesian inference to re-allocate credibility across parameter values.   \n",
    "Interpret\n",
    "the posterior distribution with respect to theoretically meaningful issues (assuming\n",
    "that the model is a reasonable description of the data; see next step).\n",
    "\n",
    "5. Check that the posterior predictions mimic the data with reasonable accuracy (i.e.,\n",
    "conduct a “posterior predictive check”).   \n",
    "If not, then consider a different descriptive\n",
    "model."
   ]
  },
  {
   "cell_type": "markdown",
   "metadata": {
    "Collapsed": "false"
   },
   "source": [
    "Perhaps the best way to explain these steps is with a realistic example of Bayesian data\n",
    "analysis.   \n",
    "The discussion that follows is abbreviated for purposes of this introductory\n",
    "chapter, with many technical details suppressed. "
   ]
  },
  {
   "cell_type": "markdown",
   "metadata": {
    "Collapsed": "false"
   },
   "source": [
    "For this example, suppose we are interested in the relationship between weight and height of people.   \n",
    "We suspect from\n",
    "everyday experience that taller people tend to weigh more than shorter people,\n",
    "but we would like to know by how much people’s weights tend to increase when\n",
    "height increases, and how certain we can be about the magnitude of the increase.  \n",
    "In particular, we might be interested in predicting a person’s weight based on their\n",
    "height."
   ]
  },
  {
   "cell_type": "markdown",
   "metadata": {
    "Collapsed": "false"
   },
   "source": [
    "The first step is identifying the relevant data.   \n",
    "Suppose we have been able to collect\n",
    "heights and weights from 57 mature adults sampled at random from a population of\n",
    "interest.   \n",
    "Heights are measured on the continuous scale of inches, and weights are\n",
    "measured on the continuous scale of pounds.  \n",
    "We wish to predict weight from height.   \n",
    "A scatter plot of the data is shown in Figure 2.5."
   ]
  },
  {
   "cell_type": "markdown",
   "metadata": {
    "Collapsed": "false"
   },
   "source": [
    "<br><br>\n",
    "<img style=\"float: left;\" src=\"pic3/02_05.png\"  width=\"650\">"
   ]
  },
  {
   "cell_type": "markdown",
   "metadata": {
    "Collapsed": "false"
   },
   "source": [
    "The second step is to define a descriptive model of the data that is meaningful\n",
    "for our research interest.   \n",
    "We will describe predicted weight as a multiplier times height plus a\n",
    "baseline.  \n",
    "We will denote the predicted weight as $\\hat{y}$ (spoken “y hat”), and we will denote\n",
    "the height as x.   \n",
    "&nbsp;&nbsp;&nbsp;&nbsp;&nbsp;&nbsp;&nbsp;&nbsp;&nbsp;&nbsp;&nbsp;&nbsp;&nbsp;&nbsp;&nbsp;&nbsp;&nbsp;&nbsp;&nbsp;&nbsp;&nbsp;&nbsp;&nbsp;&nbsp;&nbsp;&nbsp;&nbsp;&nbsp;&nbsp;&nbsp;&nbsp;&nbsp;&nbsp;&nbsp;&nbsp;&nbsp;&nbsp;&nbsp;&nbsp;&nbsp;&nbsp;&nbsp;&nbsp;&nbsp;&nbsp;&nbsp;&nbsp;&nbsp;$\\hat{y} = β_1 x + β_0$ &nbsp;&nbsp;&nbsp;&nbsp;&nbsp;&nbsp;&nbsp;&nbsp;&nbsp;&nbsp;&nbsp;&nbsp;(2.1)\n",
    "\n",
    "The coefficient, $β_1$ (Greek letter “beta”), indicates how much the predicted weight\n",
    "increases when the height goes up by one inch.  \n",
    "Equation 2.1 is the form of a line, in which $β_1$ is the slope and $β_0$ is the intercept, and this model of trend is often called\n",
    "linear regression.  "
   ]
  },
  {
   "cell_type": "markdown",
   "metadata": {
    "Collapsed": "false"
   },
   "source": [
    "The model is not complete yet, because we have to describe the random variation of\n",
    "actual weights around the predicted weight.  \n",
    "For simplicity, we will use the conventional\n",
    "normal distribution (explained in detail in Section 4.3.2.2), and assume that actual\n",
    "weights y are distributed randomly according to a normal distribution around the\n",
    "predicted value $\\hat{y}$  and with standard deviation denoted $σ$ (Greek letter “sigma”). This\n",
    "relation is denoted symbolically as  \n",
    "&nbsp;&nbsp;&nbsp;&nbsp;&nbsp;&nbsp;&nbsp;&nbsp;&nbsp;&nbsp;&nbsp;&nbsp;&nbsp;&nbsp;&nbsp;&nbsp;&nbsp;&nbsp;&nbsp;&nbsp;&nbsp;&nbsp;&nbsp;&nbsp;&nbsp;&nbsp;&nbsp;&nbsp;&nbsp;&nbsp;&nbsp;&nbsp;&nbsp;&nbsp;&nbsp;&nbsp;&nbsp;&nbsp;&nbsp;&nbsp;&nbsp;&nbsp;&nbsp;&nbsp;&nbsp;&nbsp;&nbsp;&nbsp;$y ∼ normal(\\hat{y}, σ)$ &nbsp;&nbsp;&nbsp;&nbsp;&nbsp;&nbsp;&nbsp;&nbsp;&nbsp;&nbsp;&nbsp;&nbsp;(2.2)\n",
    "\n",
    "where the symbol “∼” means “is distributed as.”  "
   ]
  },
  {
   "cell_type": "markdown",
   "metadata": {
    "Collapsed": "false"
   },
   "source": [
    "The full model, combining Equations 2.1 and 2.2, has three parameters altogether:\n",
    "the slope, $β_1$, the intercept, $β_0$, and the standard deviation of the “noise,” $σ$.   \n",
    "Note that\n",
    "the three parameters are meaningful.   \n",
    "In particular, the slope parameter tells us how much\n",
    "the weight tends to increase when height increases by an inch, and the standard deviation\n",
    "parameter tells us how much variability in weight there is around the predicted value.  \n",
    "This sort of model, called linear regression, is explained at length in Chapters 15, 17,\n",
    "and 18."
   ]
  },
  {
   "cell_type": "markdown",
   "metadata": {
    "Collapsed": "false"
   },
   "source": [
    "The third step in the analysis is specifying a prior distribution on the parameters.  \n",
    "We\n",
    "might be able to inform the prior with previously conducted, and publicly verifiable,\n",
    "research on weights and heights of the target population.   \n",
    "\n",
    "But for purposes of this example, I will use a vague prior that places\n",
    "virtually equal prior credibility across a vast range of possible values for the slope and\n",
    "intercept, both centered at zero.   \n",
    "I will also place a vague prior on\n",
    "the noise (standard deviation) parameter, specifically a uniform distribution that extends\n",
    "from zero to a huge value.   \n",
    "This choice of prior distribution implies that it has virtually\n",
    "no biasing influence on the resulting posterior distribution."
   ]
  },
  {
   "cell_type": "markdown",
   "metadata": {
    "Collapsed": "false"
   },
   "source": [
    "The fourth step is interpreting the posterior distribution.   \n",
    "Bayesian inference has reallocated\n",
    "credibility across parameter values, from the vague prior distribution, to values\n",
    "that are consistent with the data.   \n",
    "The posterior distribution indicates combinations of\n",
    "$β_0$, $β_1$, and $σ$ that together are credible, given the data.  "
   ]
  },
  {
   "cell_type": "markdown",
   "metadata": {
    "Collapsed": "false"
   },
   "source": [
    "The right panel of Figure 2.5\n",
    "shows the posterior distribution on the slope parameter, $β_1$ (collapsing across the other\n",
    "two parameters).   \n",
    "It is important to understand that Figure 2.5 shows a distribution\n",
    "of parameter values, not a distribution of data.  \n",
    "The posterior distribution in Figure 2.5 indicates that the most\n",
    "credible value of the slope is about 4.1.  "
   ]
  },
  {
   "cell_type": "markdown",
   "metadata": {
    "Collapsed": "false"
   },
   "source": [
    "One way to summarize the uncertainty is by marking\n",
    "the span of values that are most credible and cover 95% of the distribution.   \n",
    "This is\n",
    "called the **highest density interval (HDI)** and is marked by the black bar on the floor of\n",
    "the distribution in Figure 2.5.   \n",
    "Values within the 95% HDI are more credible (i.e., have\n",
    "higher probability “density”) than values outside the HDI, and the values inside the\n",
    "HDI have a total probability of 95%.  \n",
    "Given the 57 data points, the 95% HDI goes from\n",
    "a slope of about 2.6 pounds per inch to a slope of about 5.7 pounds per inch.  \n",
    "With more\n",
    "data, the estimate of the slope would be more precise, meaning that the HDI would be\n",
    "narrower."
   ]
  },
  {
   "cell_type": "markdown",
   "metadata": {
    "Collapsed": "false"
   },
   "source": [
    "The fifth step is to check that the model, with its most credible parameter values,\n",
    "actually mimics the data reasonably well.  \n",
    "This is called a “posterior predictive check.”  \n",
    "There is no single, unique way to ascertain whether the model predictions systematically and meaningfully deviate from the data, because there are innumerable ways in which\n",
    "to define systematic deviation.   \n",
    "One approach is to plot a summary of predicted data\n",
    "from the model against the actual data.   \n",
    "We take credible values of the parameters, $β_0$, $β_1$, and $σ$ , plug them into the model Equations 2.1 and 2.2, and randomly generate\n",
    "simulated $y$ values (weights) at selected $x$ values (heights).  \n",
    "We do that for many, many credible parameter values to create representative distributions of what data would look\n",
    "like according to the model.   \n",
    "The results of this simulation are shown in Figure 2.6."
   ]
  },
  {
   "cell_type": "markdown",
   "metadata": {
    "Collapsed": "false"
   },
   "source": [
    "<br><br>\n",
    "<img style=\"float: left;\" src=\"pic3/02_06.png\"  width=\"650\">"
   ]
  },
  {
   "cell_type": "markdown",
   "metadata": {
    "Collapsed": "false"
   },
   "source": [
    "The predicted weight values are summarized by vertical bars that show the range of the\n",
    "95% most credible predicted weight values.   \n",
    "The dot at the middle of each bar shows\n",
    "the mean of the predicted weight values.  \n",
    "By visual inspection of the graph, we can\n",
    "see that the actual data appear to be well described by the predicted data.   \n",
    "The actual\n",
    "data do not appear to deviate systematically from the trend or band predicted from\n",
    "the model."
   ]
  },
  {
   "cell_type": "markdown",
   "metadata": {
    "Collapsed": "false"
   },
   "source": [
    "If the actual data did appear to deviate systematically from the predicted form, then\n",
    "we could contemplate alternative descriptive models.   \n",
    "For example, the actual data might\n",
    "appear to have a nonlinear trend.   \n",
    "In that case, we could expand the model to include\n",
    "nonlinear trends."
   ]
  }
 ],
 "metadata": {
  "kernelspec": {
   "display_name": "Python 3",
   "language": "python",
   "name": "python3"
  },
  "language_info": {
   "codemirror_mode": {
    "name": "ipython",
    "version": 3
   },
   "file_extension": ".py",
   "mimetype": "text/x-python",
   "name": "python",
   "nbconvert_exporter": "python",
   "pygments_lexer": "ipython3",
   "version": "3.7.6"
  }
 },
 "nbformat": 4,
 "nbformat_minor": 4
}
